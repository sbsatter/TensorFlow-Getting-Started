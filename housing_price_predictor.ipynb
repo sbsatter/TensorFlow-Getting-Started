{
 "cells": [
  {
   "cell_type": "code",
   "execution_count": 22,
   "metadata": {},
   "outputs": [],
   "source": [
    "import tensorflow as tf\n",
    "import numpy as np\n",
    "import matplotlib.pyplot as plt\n",
    "import matplotlib.animation as animation\n",
    "import math\n"
   ]
  },
  {
   "cell_type": "code",
   "execution_count": 3,
   "metadata": {},
   "outputs": [],
   "source": [
    "num_house = 160\n",
    "np.random.seed(42)\n",
    "house_sizes = np.random.randint(low=1000, high=3500, size=num_house)\n",
    "np.random.seed(42)\n",
    "house_prices = house_sizes * 100 + np.random.randint(low=20000, high=70000, size=num_house)"
   ]
  },
  {
   "cell_type": "code",
   "execution_count": 4,
   "metadata": {},
   "outputs": [
    {
     "data": {
      "image/png": "[encoded data removed]",
      "text/plain": [
       "<matplotlib.figure.Figure at 0x7fcd51f08438>"
      ]
     },
     "metadata": {},
     "output_type": "display_data"
    }
   ],
   "source": [
    "plt.plot(house_sizes, house_prices, 'bx')\n",
    "plt.xlabel('Size')\n",
    "plt.ylabel('Price')\n",
    "plt.show()"
   ]
  },
  {
   "cell_type": "code",
   "execution_count": 5,
   "metadata": {},
   "outputs": [],
   "source": [
    "def normalize(array):\n",
    "    return (array - array.mean())/array.std()"
   ]
  },
  {
   "cell_type": "code",
   "execution_count": 6,
   "metadata": {},
   "outputs": [],
   "source": [
    "ratio = 0.8 # ratio of training examples to total data \n",
    "training_set_size = math.floor(ratio * num_house)\n",
    "test_set_size = num_house - training_set_size\n",
    "training_set, test_set = {}, {}"
   ]
  },
  {
   "cell_type": "code",
   "execution_count": 7,
   "metadata": {},
   "outputs": [],
   "source": [
    "size_train = np.asarray(house_sizes[:training_set_size])\n",
    "price_train = np.asarray(house_prices[:training_set_size])\n",
    "size_test = np.asarray(house_sizes[training_set_size:])\n",
    "price_test = np.asarray(house_prices[training_set_size:])"
   ]
  },
  {
   "cell_type": "code",
   "execution_count": 8,
   "metadata": {},
   "outputs": [],
   "source": [
    "size_train_norm = normalize(size_train)\n",
    "price_train_norm = normalize(price_train)\n",
    "size_test_norm = normalize(size_test)\n",
    "price_test_norm = normalize(price_test)"
   ]
  },
  {
   "cell_type": "code",
   "execution_count": 9,
   "metadata": {},
   "outputs": [],
   "source": [
    "tf_house_size = tf.placeholder('float', name = 'house_size')\n",
    "tf_price = tf.placeholder('float', name = 'price')\n",
    "tf_size_factor = tf.Variable(np.random.randn(), name = 'size_factor')\n",
    "tf_price_offset = tf.Variable(np.random.randn(), name = 'price_offset')"
   ]
  },
  {
   "cell_type": "code",
   "execution_count": 10,
   "metadata": {},
   "outputs": [],
   "source": [
    "# Learn the inference function: Price = size * size_factor + price_offset\n",
    "\n",
    "tf_price_pred = tf.add(tf.multiply(tf_house_size, tf_size_factor), tf_price_offset)"
   ]
  },
  {
   "cell_type": "code",
   "execution_count": 11,
   "metadata": {},
   "outputs": [],
   "source": [
    "# Loss calculator\n",
    "tf_cost = tf.reduce_sum(tf.squared_difference(tf_price, tf_price_pred))/(2 * training_set_size)"
   ]
  },
  {
   "cell_type": "code",
   "execution_count": 12,
   "metadata": {},
   "outputs": [],
   "source": [
    "learning_rate = 0.1"
   ]
  },
  {
   "cell_type": "code",
   "execution_count": 13,
   "metadata": {},
   "outputs": [],
   "source": [
    "optimizer = tf.train.GradientDescentOptimizer(learning_rate).minimize(tf_cost)"
   ]
  },
  {
   "cell_type": "code",
   "execution_count": 14,
   "metadata": {},
   "outputs": [],
   "source": [
    "init = tf.global_variables_initializer()"
   ]
  },
  {
   "cell_type": "code",
   "execution_count": 15,
   "metadata": {},
   "outputs": [],
   "source": [
    "num_iterations = 50"
   ]
  },
  {
   "cell_type": "code",
   "execution_count": 16,
   "metadata": {},
   "outputs": [
    {
     "name": "stdout",
     "output_type": "stream",
     "text": [
      "#### Iteration #  1 \n",
      "Cost:  0.7200903 \n",
      "Size Factor:  0.09171875 \n",
      "Price Offset -0.781971\n",
      "#### Iteration #  3 \n",
      "Cost:  0.48900822 \n",
      "Size Factor:  0.25295284 \n",
      "Price Offset -0.640045\n",
      "#### Iteration #  5 \n",
      "Cost:  0.33419317 \n",
      "Size Factor:  0.38493052 \n",
      "Price Offset -0.5238636\n",
      "#### Iteration #  7 \n",
      "Cost:  0.23047699 \n",
      "Size Factor:  0.4929607 \n",
      "Price Offset -0.4287567\n",
      "#### Iteration #  9 \n",
      "Cost:  0.16099702 \n",
      "Size Factor:  0.5813886 \n",
      "Price Offset -0.35090196\n",
      "#### Iteration #  11 \n",
      "Cost:  0.11445428 \n",
      "Size Factor:  0.6537715 \n",
      "Price Offset -0.28716993\n",
      "#### Iteration #  13 \n",
      "Cost:  0.083278716 \n",
      "Size Factor:  0.71301985 \n",
      "Price Offset -0.23499845\n",
      "#### Iteration #  15 \n",
      "Cost:  0.06239795 \n",
      "Size Factor:  0.76151776 \n",
      "Price Offset -0.19229077\n",
      "#### Iteration #  17 \n",
      "Cost:  0.048413787 \n",
      "Size Factor:  0.80121565 \n",
      "Price Offset -0.15733\n",
      "#### Iteration #  19 \n",
      "Cost:  0.03904948 \n",
      "Size Factor:  0.8337101 \n",
      "Price Offset -0.12871088\n",
      "#### Iteration #  21 \n",
      "Cost:  0.03277964 \n",
      "Size Factor:  0.8603086 \n",
      "Price Offset -0.10528324\n",
      "#### Iteration #  23 \n",
      "Cost:  0.028582456 \n",
      "Size Factor:  0.8820805 \n",
      "Price Offset -0.08610524\n",
      "#### Iteration #  25 \n",
      "Cost:  0.025773332 \n",
      "Size Factor:  0.8999018 \n",
      "Price Offset -0.07040604\n",
      "#### Iteration #  27 \n",
      "Cost:  0.023893667 \n",
      "Size Factor:  0.91449 \n",
      "Price Offset -0.057554632\n",
      "#### Iteration #  29 \n",
      "Cost:  0.022636391 \n",
      "Size Factor:  0.9264305 \n",
      "Price Offset -0.047034394\n",
      "#### Iteration #  31 \n",
      "Cost:  0.021795705 \n",
      "Size Factor:  0.9362047 \n",
      "Price Offset -0.038422488\n",
      "#### Iteration #  33 \n",
      "Cost:  0.021233853 \n",
      "Size Factor:  0.94420516 \n",
      "Price Offset -0.03137274\n",
      "#### Iteration #  35 \n",
      "Cost:  0.020858584 \n",
      "Size Factor:  0.9507536 \n",
      "Price Offset -0.025601804\n",
      "#### Iteration #  37 \n",
      "Cost:  0.020608095 \n",
      "Size Factor:  0.9561143 \n",
      "Price Offset -0.020877676\n",
      "#### Iteration #  39 \n",
      "Cost:  0.020441052 \n",
      "Size Factor:  0.9605022 \n",
      "Price Offset -0.017010476\n",
      "#### Iteration #  41 \n",
      "Cost:  0.02032978 \n",
      "Size Factor:  0.96409404 \n",
      "Price Offset -0.013844803\n",
      "#### Iteration #  43 \n",
      "Cost:  0.020255756 \n",
      "Size Factor:  0.96703386 \n",
      "Price Offset -0.011253351\n",
      "#### Iteration #  45 \n",
      "Cost:  0.020206593 \n",
      "Size Factor:  0.96944034 \n",
      "Price Offset -0.009131976\n",
      "#### Iteration #  47 \n",
      "Cost:  0.020174015 \n",
      "Size Factor:  0.9714098 \n",
      "Price Offset -0.007395419\n",
      "#### Iteration #  49 \n",
      "Cost:  0.020152476 \n",
      "Size Factor:  0.9730223 \n",
      "Price Offset -0.0059738564\n"
     ]
    }
   ],
   "source": [
    "sess = tf.Session()\n",
    "sess.run(init)\n",
    "for i in range(num_iterations):\n",
    "    for (x,y) in zip(size_train_norm, price_train_norm):\n",
    "        sess.run(optimizer, feed_dict={tf_house_size: x, tf_price:y})\n",
    "    \n",
    "    display_interval = 2\n",
    "    fit_num_plots = math.floor(num_iterations / display_interval)\n",
    "    fit_size_factor = np.zeros(fit_num_plots)\n",
    "    fit_price_offset = np.zeros(fit_num_plots)\n",
    "    plot_idx = 0\n",
    "        \n",
    "    if (i+1) % display_interval == 0:\n",
    "        cost = sess.run(tf_cost, feed_dict={tf_price: price_train_norm, tf_house_size: size_train_norm})\n",
    "        size_factor = sess.run(tf_size_factor)\n",
    "        price_offset = sess.run(tf_price_offset)\n",
    "        fit_size_factor[plot_idx] = size_factor\n",
    "        fit_price_offset[plot_idx] = price_offset\n",
    "        print('#### Iteration # ',i, '\\nCost: ', cost, '\\nSize Factor: ', size_factor, '\\nPrice Offset', price_offset)\n"
   ]
  },
  {
   "cell_type": "code",
   "execution_count": 17,
   "metadata": {},
   "outputs": [],
   "source": [
    "train_size_mean = size_train_norm.mean()\n",
    "train_size_std = size_train_norm.std()\n",
    "train_price_mean = price_train_norm.mean()\n",
    "train_price_std = price_train_norm.std()"
   ]
  },
  {
   "cell_type": "code",
   "execution_count": 18,
   "metadata": {},
   "outputs": [
    {
     "data": {
      "image/png": "[encoded data removed]",
      "text/plain": [
       "<matplotlib.figure.Figure at 0x7fcd4f5797f0>"
      ]
     },
     "metadata": {},
     "output_type": "display_data"
    }
   ],
   "source": [
    "#Without animation\n",
    "plt.rcParams['figure.figsize'] = [10,8]\n",
    "plt.figure()\n",
    "plt.xlabel('Size')\n",
    "plt.ylabel('Price')\n",
    "plt.plot(size_train_norm, price_train_norm, 'go', label='training data')\n",
    "plt.plot(size_test_norm, price_test_norm, 'mo', label='testing data')\n",
    "plt.plot(size_train_norm * train_size_std + train_size_mean, \\\n",
    "         (sess.run(tf_size_factor) * size_train_norm + sess.run(tf_price_offset)) * train_price_std + train_price_mean,\\\n",
    "        label='Learned Regression')\n",
    "plt.legend(loc=2) # upper left\n",
    "plt.show()\n",
    "sess.close()"
   ]
  },
  {
   "cell_type": "code",
   "execution_count": 30,
   "metadata": {},
   "outputs": [
    {
     "name": "stderr",
     "output_type": "stream",
     "text": [
      "Traceback (most recent call last):\n",
      "  File \"/home/sbsatter/anaconda3/lib/python3.6/site-packages/matplotlib/cbook/__init__.py\", line 388, in process\n",
      "    proxy(*args, **kwargs)\n",
      "  File \"/home/sbsatter/anaconda3/lib/python3.6/site-packages/matplotlib/cbook/__init__.py\", line 228, in __call__\n",
      "    return mtd(*args, **kwargs)\n",
      "  File \"/home/sbsatter/anaconda3/lib/python3.6/site-packages/matplotlib/animation.py\", line 1081, in _start\n",
      "    self._init_draw()\n",
      "  File \"/home/sbsatter/anaconda3/lib/python3.6/site-packages/matplotlib/animation.py\", line 1800, in _init_draw\n",
      "    for a in self._drawn_artists:\n",
      "TypeError: 'Line2D' object is not iterable\n"
     ]
    },
    {
     "data": {
      "image/png": "[encoded data removed]",
      "text/plain": [
       "<matplotlib.figure.Figure at 0x7fcd357e6e80>"
      ]
     },
     "metadata": {},
     "output_type": "display_data"
    },
    {
     "data": {
      "image/png": "[encoded data removed]",
      "text/plain": [
       "<matplotlib.figure.Figure at 0x7fcd3597af98>"
      ]
     },
     "metadata": {},
     "output_type": "display_data"
    }
   ],
   "source": [
    "# with animation - DOES NOT WORK\n",
    "fig, ax = plt.subplots()\n",
    "line, = ax.plot(house_sizes, house_prices)\n",
    "plt.rcParams['figure.figsize'] = [10,8]\n",
    "plt.figure()\n",
    "plt.xlabel('Size')\n",
    "plt.ylabel('Price')\n",
    "plt.plot(size_train_norm, price_train_norm, 'go', label='training data')\n",
    "plt.plot(size_test_norm, price_test_norm, 'mo', label='testing data')\n",
    "# plt.plot(size_train_norm * train_size_std + train_size_mean, \\\n",
    "#          (sess.run(tf_size_factor) * size_train_norm + sess.run(tf_price_offset)) * train_price_std + train_price_mean,\\\n",
    "#         label='Learned Regression')\n",
    "plt.legend(loc=2) # upper left\n",
    "\n",
    "def animate(i):\n",
    "    line.set_xdata(size_train_norm * train_size_std + train_size_mean)\n",
    "    line.set_ydata(fit_size_factor[i] * size_train_norm + fit_price_offset[i] * train_price_std + train_price_mean)\n",
    "    return line\n",
    "\n",
    "def init_anim():\n",
    "    line.set_ydata(np.zeros(house_prices.shape[0]))\n",
    "    return line\n",
    "\n",
    "ani = animation.FuncAnimation(fig, animate, frames=np.arange(0, plot_idx), init_func=init_anim, interval=1000, blit=True)\n",
    "plt.show()"
   ]
  },
  {
   "cell_type": "code",
   "execution_count": 24,
   "metadata": {},
   "outputs": [],
   "source": []
  },
  {
   "cell_type": "code",
   "execution_count": 25,
   "metadata": {},
   "outputs": [],
   "source": []
  },
  {
   "cell_type": "code",
   "execution_count": 26,
   "metadata": {},
   "outputs": [
    {
     "ename": "NameError",
     "evalue": "name 'fig' is not defined",
     "output_type": "error",
     "traceback": [
      "\u001b[0;31m---------------------------------------------------------------------------\u001b[0m",
      "\u001b[0;31mNameError\u001b[0m                                 Traceback (most recent call last)",
      "\u001b[0;32m<ipython-input-26-971adf55030c>\u001b[0m in \u001b[0;36m<module>\u001b[0;34m()\u001b[0m\n\u001b[0;32m----> 1\u001b[0;31m \u001b[0mani\u001b[0m \u001b[0;34m=\u001b[0m \u001b[0manimation\u001b[0m\u001b[0;34m.\u001b[0m\u001b[0mFuncAnimation\u001b[0m\u001b[0;34m(\u001b[0m\u001b[0mfig\u001b[0m\u001b[0;34m,\u001b[0m \u001b[0manimate\u001b[0m\u001b[0;34m,\u001b[0m \u001b[0mframes\u001b[0m\u001b[0;34m=\u001b[0m\u001b[0mnp\u001b[0m\u001b[0;34m.\u001b[0m\u001b[0marange\u001b[0m\u001b[0;34m(\u001b[0m\u001b[0;36m0\u001b[0m\u001b[0;34m,\u001b[0m \u001b[0mplot_idx\u001b[0m\u001b[0;34m)\u001b[0m\u001b[0;34m,\u001b[0m \u001b[0minit_func\u001b[0m\u001b[0;34m=\u001b[0m\u001b[0minit_anim\u001b[0m\u001b[0;34m,\u001b[0m \u001b[0minterval\u001b[0m\u001b[0;34m=\u001b[0m\u001b[0;36m1000\u001b[0m\u001b[0;34m,\u001b[0m \u001b[0mblit\u001b[0m\u001b[0;34m=\u001b[0m\u001b[0mtrue\u001b[0m\u001b[0;34m)\u001b[0m\u001b[0;34m\u001b[0m\u001b[0m\n\u001b[0m\u001b[1;32m      2\u001b[0m \u001b[0mplot\u001b[0m\u001b[0;34m.\u001b[0m\u001b[0mshow\u001b[0m\u001b[0;34m(\u001b[0m\u001b[0;34m)\u001b[0m\u001b[0;34m\u001b[0m\u001b[0m\n",
      "\u001b[0;31mNameError\u001b[0m: name 'fig' is not defined"
     ]
    }
   ],
   "source": []
  },
  {
   "cell_type": "code",
   "execution_count": null,
   "metadata": {},
   "outputs": [],
   "source": []
  }
 ],
 "metadata": {
  "kernelspec": {
   "display_name": "Python 3",
   "language": "python",
   "name": "python3"
  },
  "language_info": {
   "codemirror_mode": {
    "name": "ipython",
    "version": 3
   },
   "file_extension": ".py",
   "mimetype": "text/x-python",
   "name": "python",
   "nbconvert_exporter": "python",
   "pygments_lexer": "ipython3",
   "version": "3.6.4"
  }
 },
 "nbformat": 4,
 "nbformat_minor": 2
}
