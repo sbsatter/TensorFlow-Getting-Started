{
 "cells": [
  {
   "cell_type": "code",
   "execution_count": 1,
   "metadata": {},
   "outputs": [
    {
     "name": "stderr",
     "output_type": "stream",
     "text": [
      "/home/sbsatter/anaconda3/lib/python3.6/importlib/_bootstrap.py:219: RuntimeWarning: numpy.dtype size changed, may indicate binary incompatibility. Expected 96, got 88\n",
      "  return f(*args, **kwds)\n",
      "/home/sbsatter/anaconda3/lib/python3.6/site-packages/h5py/__init__.py:36: FutureWarning: Conversion of the second argument of issubdtype from `float` to `np.floating` is deprecated. In future, it will be treated as `np.float64 == np.dtype(float).type`.\n",
      "  from ._conv import register_converters as _register_converters\n",
      "/home/sbsatter/anaconda3/lib/python3.6/importlib/_bootstrap.py:219: RuntimeWarning: numpy.dtype size changed, may indicate binary incompatibility. Expected 96, got 88\n",
      "  return f(*args, **kwds)\n",
      "/home/sbsatter/anaconda3/lib/python3.6/importlib/_bootstrap.py:219: RuntimeWarning: numpy.dtype size changed, may indicate binary incompatibility. Expected 96, got 88\n",
      "  return f(*args, **kwds)\n"
     ]
    }
   ],
   "source": [
    "import tensorflow as tf\n",
    "import numpy as np\n",
    "import matplotlib.pyplot as plt\n",
    "import math\n"
   ]
  },
  {
   "cell_type": "code",
   "execution_count": 6,
   "metadata": {},
   "outputs": [],
   "source": [
    "num_house = 160\n",
    "np.random.seed(42)\n",
    "house_sizes = np.random.randint(low=1000, high=3500, size=num_house)\n",
    "np.random.seed(42)\n",
    "house_prices = house_sizes * 100 + np.random.randint(low=20000, high=70000, size=num_house)"
   ]
  },
  {
   "cell_type": "code",
   "execution_count": 7,
   "metadata": {},
   "outputs": [
    {
     "data": {
      "image/png": "[encoded data removed]",
      "text/plain": [
       "<matplotlib.figure.Figure at 0x7f5742eda3c8>"
      ]
     },
     "metadata": {},
     "output_type": "display_data"
    }
   ],
   "source": [
    "plt.plot(house_sizes, house_prices, 'bx')\n",
    "plt.xlabel('Size')\n",
    "plt.ylabel('Price')\n",
    "plt.show()"
   ]
  },
  {
   "cell_type": "code",
   "execution_count": 10,
   "metadata": {},
   "outputs": [],
   "source": [
    "def normalize(array):\n",
    "    return (array - array.mean())/array.std()"
   ]
  },
  {
   "cell_type": "code",
   "execution_count": 58,
   "metadata": {},
   "outputs": [],
   "source": [
    "ratio = 0.8 # ratio of training examples to total data \n",
    "training_set_size = math.floor(ratio * num_house)\n",
    "test_set_size = num_house - training_set_size\n",
    "training_set, test_set = {}, {}"
   ]
  },
  {
   "cell_type": "code",
   "execution_count": 59,
   "metadata": {},
   "outputs": [],
   "source": [
    "size_train = np.asarray(house_sizes[:training_set_size])\n",
    "price_train = np.asarray(house_prices[:training_set_size])\n",
    "size_test = np.asarray(house_sizes[training_set_size:])\n",
    "price_test = np.asarray(house_prices[training_set_size:])"
   ]
  },
  {
   "cell_type": "code",
   "execution_count": 60,
   "metadata": {},
   "outputs": [],
   "source": [
    "size_train_norm = normalize(size_train)\n",
    "price_train_norm = normalize(price_train)\n",
    "size_test_norm = normalize(size_test)\n",
    "price_test_norm = normalize(price_test)"
   ]
  },
  {
   "cell_type": "code",
   "execution_count": 61,
   "metadata": {},
   "outputs": [],
   "source": [
    "tf_house_size = tf.placeholder('float', name = 'house_size')\n",
    "tf_price = tf.placeholder('float', name = 'price')\n",
    "tf_size_factor = tf.Variable(np.random.randn(), name = 'size_factor')\n",
    "tf_price_offset = tf.Variable(np.random.randn(), name = 'price_offset')"
   ]
  },
  {
   "cell_type": "code",
   "execution_count": 62,
   "metadata": {},
   "outputs": [],
   "source": [
    "# Learn the inference function: Price = size * size_factor + price_offset\n",
    "\n",
    "tf_price_pred = tf.add(tf.multiply(tf_house_size, tf_size_factor), tf_price_offset)"
   ]
  },
  {
   "cell_type": "code",
   "execution_count": 63,
   "metadata": {},
   "outputs": [],
   "source": [
    "# Loss calculator\n",
    "tf_cost = tf.reduce_sum(tf.squared_difference(tf_price, tf_price_pred))/(2 * training_set_size)"
   ]
  },
  {
   "cell_type": "code",
   "execution_count": 64,
   "metadata": {},
   "outputs": [],
   "source": [
    "learning_rate = 0.1"
   ]
  },
  {
   "cell_type": "code",
   "execution_count": 65,
   "metadata": {},
   "outputs": [],
   "source": [
    "optimizer = tf.train.GradientDescentOptimizer(learning_rate).minimize(tf_cost)"
   ]
  },
  {
   "cell_type": "code",
   "execution_count": 66,
   "metadata": {},
   "outputs": [],
   "source": [
    "init = tf.global_variables_initializer()"
   ]
  },
  {
   "cell_type": "code",
   "execution_count": 67,
   "metadata": {},
   "outputs": [],
   "source": [
    "num_iterations = 50"
   ]
  },
  {
   "cell_type": "code",
   "execution_count": 74,
   "metadata": {},
   "outputs": [
    {
     "name": "stdout",
     "output_type": "stream",
     "text": [
      "#### Iteration #  1 \n",
      "Cost:  0.84121716 \n",
      "Size Factor:  -0.0903013 \n",
      "Price Offset -0.7052284\n",
      "#### Iteration #  3 \n",
      "Cost:  0.57014954 \n",
      "Size Factor:  0.103959985 \n",
      "Price Offset -0.5772232\n",
      "#### Iteration #  5 \n",
      "Cost:  0.3885471 \n",
      "Size Factor:  0.26297233 \n",
      "Price Offset -0.47243813\n",
      "#### Iteration #  7 \n",
      "Cost:  0.26688552 \n",
      "Size Factor:  0.39313158 \n",
      "Price Offset -0.38665977\n",
      "#### Iteration #  9 \n",
      "Cost:  0.18538381 \n",
      "Size Factor:  0.49967334 \n",
      "Price Offset -0.3164415\n",
      "#### Iteration #  11 \n",
      "Cost:  0.13078794 \n",
      "Size Factor:  0.5868829 \n",
      "Price Offset -0.2589604\n",
      "#### Iteration #  13 \n",
      "Cost:  0.09421787 \n",
      "Size Factor:  0.65826774 \n",
      "Price Offset -0.21190622\n",
      "#### Iteration #  15 \n",
      "Cost:  0.0697237 \n",
      "Size Factor:  0.71669954 \n",
      "Price Offset -0.1733874\n",
      "#### Iteration #  17 \n",
      "Cost:  0.05331909 \n",
      "Size Factor:  0.7645295 \n",
      "Price Offset -0.14185579\n",
      "#### Iteration #  19 \n",
      "Cost:  0.042333625 \n",
      "Size Factor:  0.80368066 \n",
      "Price Offset -0.11604381\n",
      "#### Iteration #  21 \n",
      "Cost:  0.03497809 \n",
      "Size Factor:  0.83572763 \n",
      "Price Offset -0.09491396\n",
      "#### Iteration #  23 \n",
      "Cost:  0.0300538 \n",
      "Size Factor:  0.8619599 \n",
      "Price Offset -0.07761694\n",
      "#### Iteration #  25 \n",
      "Cost:  0.02675781 \n",
      "Size Factor:  0.88343227 \n",
      "Price Offset -0.063457526\n",
      "#### Iteration #  27 \n",
      "Cost:  0.024552245 \n",
      "Size Factor:  0.9010082 \n",
      "Price Offset -0.051866576\n",
      "#### Iteration #  29 \n",
      "Cost:  0.023076737 \n",
      "Size Factor:  0.91539544 \n",
      "Price Offset -0.042378154\n",
      "#### Iteration #  31 \n",
      "Cost:  0.022090025 \n",
      "Size Factor:  0.9271719 \n",
      "Price Offset -0.034610905\n",
      "#### Iteration #  33 \n",
      "Cost:  0.021430489 \n",
      "Size Factor:  0.936811 \n",
      "Price Offset -0.028252611\n",
      "#### Iteration #  35 \n",
      "Cost:  0.020989843 \n",
      "Size Factor:  0.9447015 \n",
      "Price Offset -0.023047676\n",
      "#### Iteration #  37 \n",
      "Cost:  0.020695647 \n",
      "Size Factor:  0.9511604 \n",
      "Price Offset -0.01878687\n",
      "#### Iteration #  39 \n",
      "Cost:  0.020499393 \n",
      "Size Factor:  0.9564472 \n",
      "Price Offset -0.015298946\n",
      "#### Iteration #  41 \n",
      "Cost:  0.020368619 \n",
      "Size Factor:  0.9607743 \n",
      "Price Offset -0.01244372\n",
      "#### Iteration #  43 \n",
      "Cost:  0.020281564 \n",
      "Size Factor:  0.9643165 \n",
      "Price Offset -0.01010643\n",
      "#### Iteration #  45 \n",
      "Cost:  0.020223714 \n",
      "Size Factor:  0.9672157 \n",
      "Price Offset -0.008193114\n",
      "#### Iteration #  47 \n",
      "Cost:  0.020185342 \n",
      "Size Factor:  0.96958894 \n",
      "Price Offset -0.0066268602\n",
      "#### Iteration #  49 \n",
      "Cost:  0.020159949 \n",
      "Size Factor:  0.9715317 \n",
      "Price Offset -0.005344717\n"
     ]
    }
   ],
   "source": [
    "sess = tf.Session()\n",
    "sess.run(init)\n",
    "for i in range(num_iterations):\n",
    "    for (x,y) in zip(size_train_norm, price_train_norm):\n",
    "        sess.run(optimizer, feed_dict={tf_house_size: x, tf_price:y})\n",
    "\n",
    "    if (i+1) % 2 == 0:\n",
    "        cost = sess.run(tf_cost, feed_dict={tf_price: price_train_norm, tf_house_size: size_train_norm})\n",
    "        size_factor = sess.run(tf_size_factor)\n",
    "        price_offset = sess.run(tf_price_offset)\n",
    "        print('#### Iteration # ',i, '\\nCost: ', cost, '\\nSize Factor: ', size_factor, '\\nPrice Offset', price_offset)\n"
   ]
  },
  {
   "cell_type": "code",
   "execution_count": 73,
   "metadata": {},
   "outputs": [],
   "source": [
    "train_size_mean = size_train_norm.mean()\n",
    "train_size_std = size_train_norm.std()\n",
    "train_price_mean = price_train_norm.mean()\n",
    "train_price_std = price_train_norm.std()"
   ]
  },
  {
   "cell_type": "code",
   "execution_count": 75,
   "metadata": {},
   "outputs": [
    {
     "data": {
      "image/png": "[encoded data removed]",
      "text/plain": [
       "<matplotlib.figure.Figure at 0x7f573c2707f0>"
      ]
     },
     "metadata": {},
     "output_type": "display_data"
    }
   ],
   "source": [
    "plt.rcParams['figure.figsize'] = [10,8]\n",
    "plt.figure()\n",
    "plt.xlabel('Size')\n",
    "plt.ylabel('Price')\n",
    "plt.plot(size_train_norm, price_train_norm, 'go', label='training data')\n",
    "plt.plot(size_test_norm, price_test_norm, 'mo', label='testing data')\n",
    "plt.plot(size_train_norm * train_size_std + train_size_mean, \\\n",
    "         (sess.run(tf_size_factor) * size_train_norm + sess.run(tf_price_offset)) * train_price_std + train_price_mean,\\\n",
    "        label='Learned Regression')\n",
    "plt.legend(loc=2) # upper left\n",
    "plt.show()\n",
    "sess.close()"
   ]
  },
  {
   "cell_type": "code",
   "execution_count": null,
   "metadata": {},
   "outputs": [],
   "source": []
  },
  {
   "cell_type": "code",
   "execution_count": null,
   "metadata": {},
   "outputs": [],
   "source": []
  },
  {
   "cell_type": "code",
   "execution_count": null,
   "metadata": {},
   "outputs": [],
   "source": []
  }
 ],
 "metadata": {
  "kernelspec": {
   "display_name": "Python 3",
   "language": "python",
   "name": "python3"
  },
  "language_info": {
   "codemirror_mode": {
    "name": "ipython",
    "version": 3
   },
   "file_extension": ".py",
   "mimetype": "text/x-python",
   "name": "python",
   "nbconvert_exporter": "python",
   "pygments_lexer": "ipython3",
   "version": "3.6.4"
  }
 },
 "nbformat": 4,
 "nbformat_minor": 2
}
