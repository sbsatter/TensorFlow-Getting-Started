{
 "cells": [
  {
   "cell_type": "code",
   "execution_count": 1,
   "metadata": {},
   "outputs": [
    {
     "name": "stderr",
     "output_type": "stream",
     "text": [
      "/home/sbsatter/anaconda3/lib/python3.6/site-packages/h5py/__init__.py:36: FutureWarning: Conversion of the second argument of issubdtype from `float` to `np.floating` is deprecated. In future, it will be treated as `np.float64 == np.dtype(float).type`.\n",
      "  from ._conv import register_converters as _register_converters\n"
     ]
    }
   ],
   "source": [
    "import tensorflow as tf\n",
    "from tensorflow.examples.tutorials.mnist import input_data"
   ]
  },
  {
   "cell_type": "code",
   "execution_count": 2,
   "metadata": {},
   "outputs": [
    {
     "name": "stdout",
     "output_type": "stream",
     "text": [
      "WARNING:tensorflow:From <ipython-input-2-054fe77ef35a>:1: read_data_sets (from tensorflow.contrib.learn.python.learn.datasets.mnist) is deprecated and will be removed in a future version.\n",
      "Instructions for updating:\n",
      "Please use alternatives such as official/mnist/dataset.py from tensorflow/models.\n",
      "WARNING:tensorflow:From /home/sbsatter/anaconda3/lib/python3.6/site-packages/tensorflow/contrib/learn/python/learn/datasets/mnist.py:260: maybe_download (from tensorflow.contrib.learn.python.learn.datasets.base) is deprecated and will be removed in a future version.\n",
      "Instructions for updating:\n",
      "Please write your own downloading logic.\n",
      "WARNING:tensorflow:From /home/sbsatter/anaconda3/lib/python3.6/site-packages/tensorflow/contrib/learn/python/learn/datasets/mnist.py:262: extract_images (from tensorflow.contrib.learn.python.learn.datasets.mnist) is deprecated and will be removed in a future version.\n",
      "Instructions for updating:\n",
      "Please use tf.data to implement this functionality.\n",
      "Extracting MNIST_data/train-images-idx3-ubyte.gz\n",
      "WARNING:tensorflow:From /home/sbsatter/anaconda3/lib/python3.6/site-packages/tensorflow/contrib/learn/python/learn/datasets/mnist.py:267: extract_labels (from tensorflow.contrib.learn.python.learn.datasets.mnist) is deprecated and will be removed in a future version.\n",
      "Instructions for updating:\n",
      "Please use tf.data to implement this functionality.\n",
      "Extracting MNIST_data/train-labels-idx1-ubyte.gz\n",
      "WARNING:tensorflow:From /home/sbsatter/anaconda3/lib/python3.6/site-packages/tensorflow/contrib/learn/python/learn/datasets/mnist.py:110: dense_to_one_hot (from tensorflow.contrib.learn.python.learn.datasets.mnist) is deprecated and will be removed in a future version.\n",
      "Instructions for updating:\n",
      "Please use tf.one_hot on tensors.\n",
      "Extracting MNIST_data/t10k-images-idx3-ubyte.gz\n",
      "Extracting MNIST_data/t10k-labels-idx1-ubyte.gz\n",
      "WARNING:tensorflow:From /home/sbsatter/anaconda3/lib/python3.6/site-packages/tensorflow/contrib/learn/python/learn/datasets/mnist.py:290: DataSet.__init__ (from tensorflow.contrib.learn.python.learn.datasets.mnist) is deprecated and will be removed in a future version.\n",
      "Instructions for updating:\n",
      "Please use alternatives such as official/mnist/dataset.py from tensorflow/models.\n"
     ]
    }
   ],
   "source": [
    "mnist = input_data.read_data_sets('MNIST_data/', one_hot=True)\n",
    "sess = tf.InteractiveSession()"
   ]
  },
  {
   "cell_type": "code",
   "execution_count": 3,
   "metadata": {},
   "outputs": [
    {
     "name": "stdout",
     "output_type": "stream",
     "text": [
      "(?, 28, 28, 1)\n"
     ]
    }
   ],
   "source": [
    "x = tf.placeholder(tf.float32, shape=(None, 784), name='x')\n",
    "y_ = tf.placeholder(tf.float32, shape=(None, 10), name='y_')\n",
    "\n",
    "x_image = tf.reshape(x, [-1, 28, 28, 1], name='x_image')\n",
    "print(x_image.shape)"
   ]
  },
  {
   "cell_type": "code",
   "execution_count": 4,
   "metadata": {},
   "outputs": [],
   "source": [
    "def weight_variable(shape):\n",
    "    initial = tf.truncated_normal(shape, stddev=0.1)\n",
    "    return tf.Variable(initial)\n",
    "def bias_variable(shape):\n",
    "    initial = tf.constant(0.1, shape=shape)\n",
    "    return tf.Variable(initial)\n",
    "def conv2d(x, W):\n",
    "    return tf.nn.conv2d(x, W, strides=[1,1,1,1], padding='SAME')\n",
    "def maxpool2d(x):\n",
    "    return tf.nn.max_pool(x, ksize=[1, 2, 2, 1], strides=[1,2,2,1], padding='VALID')"
   ]
  },
  {
   "cell_type": "code",
   "execution_count": 5,
   "metadata": {},
   "outputs": [],
   "source": [
    "W1 = weight_variable([5,5,1,32])\n",
    "b1 = bias_variable([32])\n",
    "\n",
    "conv1 = tf.nn.relu(conv2d(x_image, W1) + b1) \n",
    "maxpool1 = maxpool2d(conv1) # fig\n",
    "\n",
    "W2 = weight_variable([5,5,32,64])\n",
    "b2 = bias_variable([64])\n",
    "\n",
    "conv2 = tf.nn.relu(conv2d(maxpool1, W2) + b2) \n",
    "maxpool2 = maxpool2d(conv2)\n",
    "\n",
    "W3 = weight_variable([7*7*64, 1024])\n",
    "b3 = weight_variable([1024])\n",
    "\n",
    "maxpool2_flat = tf.reshape(maxpool2, [-1, 7*7*64])\n",
    "fc1 = tf.nn.relu(tf.matmul(maxpool2_flat, W3) + b3)\n",
    "\n",
    "keep_prob = tf.placeholder(tf.float32)\n",
    "dropout = tf.nn.dropout(fc1, keep_prob)"
   ]
  },
  {
   "cell_type": "code",
   "execution_count": 6,
   "metadata": {
    "scrolled": false
   },
   "outputs": [
    {
     "name": "stdout",
     "output_type": "stream",
     "text": [
      "WARNING:tensorflow:From <ipython-input-6-b44ebebb7a75>:7: softmax_cross_entropy_with_logits (from tensorflow.python.ops.nn_ops) is deprecated and will be removed in a future version.\n",
      "Instructions for updating:\n",
      "\n",
      "Future major versions of TensorFlow will allow gradients to flow\n",
      "into the labels input on backprop by default.\n",
      "\n",
      "See @{tf.nn.softmax_cross_entropy_with_logits_v2}.\n",
      "\n",
      "step 0  elapsed time 0.68 seconds, training accuracy: 0.234\n",
      "step 200  elapsed time 24.10 seconds, training accuracy: 0.891\n",
      "step 400  elapsed time 50.16 seconds, training accuracy: 0.969\n",
      "step 600  elapsed time 79.34 seconds, training accuracy: 0.906\n",
      "step 800  elapsed time 104.76 seconds, training accuracy: 0.938\n",
      "step 1000  elapsed time 134.50 seconds, training accuracy: 0.922\n",
      "step 1200  elapsed time 160.48 seconds, training accuracy: 0.969\n",
      "step 1400  elapsed time 189.93 seconds, training accuracy: 0.984\n",
      "step 1600  elapsed time 217.23 seconds, training accuracy: 0.984\n",
      "step 1800  elapsed time 241.59 seconds, training accuracy: 1.000\n",
      "step 2000  elapsed time 273.19 seconds, training accuracy: 0.938\n",
      "step 2200  elapsed time 305.38 seconds, training accuracy: 0.984\n",
      "step 2400  elapsed time 333.89 seconds, training accuracy: 1.000\n",
      "step 2600  elapsed time 360.63 seconds, training accuracy: 0.969\n",
      "step 2800  elapsed time 385.32 seconds, training accuracy: 1.000\n",
      "Training time for 2999 batches: 412.90 seconds\n",
      "Test Accuracy: {0} 0.9827\n"
     ]
    }
   ],
   "source": [
    "W4 = weight_variable([1024,10])\n",
    "b4 = bias_variable([10])\n",
    "\n",
    "y_conv = tf.matmul(dropout, W4) + b4\n",
    "\n",
    "\n",
    "cross_entropy = tf.reduce_mean(tf.nn.softmax_cross_entropy_with_logits(labels=y_, logits=y_conv))\n",
    "train_step = tf.train.AdamOptimizer(1e-4).minimize(cross_entropy)\n",
    "\n",
    "correct_prediction = tf.equal(tf.argmax(y_conv, 1), tf.argmax(y_,1))\n",
    "accuracy = tf.reduce_mean(tf.cast(correct_prediction, tf.float32))\n",
    "\n",
    "sess.run(tf.global_variables_initializer())\n",
    "\n",
    "import time\n",
    "\n",
    "start = time.time()\n",
    "end = time.time()\n",
    "\n",
    "num_steps = 3000\n",
    "display_every = 200\n",
    "\n",
    "for i in range(num_steps):\n",
    "    batch = mnist.train.next_batch(64)\n",
    "#     for j in range(len(batch)):\n",
    "#         print('batch[{0}] => {1}\\n'.format(j, batch[j].shape))\n",
    "    train_step.run(feed_dict={x: batch[0], y_: batch[1], keep_prob: 0.5})\n",
    "    \n",
    "    if i % display_every == 0:\n",
    "        train_accuracy = accuracy.eval(feed_dict={x: batch[0], y_: batch[1], keep_prob: 1})\n",
    "        end = time.time()\n",
    "        \n",
    "        print('step {0}  elapsed time {1:.2f} seconds, training accuracy: {2:.3f}'.format(i, end - start, train_accuracy))\n",
    "end = time.time()\n",
    "print('Training time for {0} batches: {1:.2f} seconds'.format(i, end - start))\n",
    "print('Test Accuracy: {0}', accuracy.eval(feed_dict={x: mnist.test.images, y_: mnist.test.labels, keep_prob: 1}))\n",
    "sess.close()"
   ]
  },
  {
   "cell_type": "code",
   "execution_count": 7,
   "metadata": {},
   "outputs": [
    {
     "data": {
      "text/plain": [
       "55000"
      ]
     },
     "execution_count": 7,
     "metadata": {},
     "output_type": "execute_result"
    }
   ],
   "source": [
    "mnist.train.num_examples"
   ]
  },
  {
   "cell_type": "code",
   "execution_count": 8,
   "metadata": {},
   "outputs": [
    {
     "name": "stdout",
     "output_type": "stream",
     "text": [
      "(64, 784)\n",
      "(64, 10)\n"
     ]
    }
   ],
   "source": [
    "a = (mnist.train.next_batch(64))\n",
    "print(a[0].shape)\n",
    "print(a[1].shape)"
   ]
  },
  {
   "cell_type": "code",
   "execution_count": null,
   "metadata": {},
   "outputs": [],
   "source": []
  }
 ],
 "metadata": {
  "kernelspec": {
   "display_name": "Python 3",
   "language": "python",
   "name": "python3"
  },
  "language_info": {
   "codemirror_mode": {
    "name": "ipython",
    "version": 3
   },
   "file_extension": ".py",
   "mimetype": "text/x-python",
   "name": "python",
   "nbconvert_exporter": "python",
   "pygments_lexer": "ipython3",
   "version": "3.6.4"
  }
 },
 "nbformat": 4,
 "nbformat_minor": 2
}
